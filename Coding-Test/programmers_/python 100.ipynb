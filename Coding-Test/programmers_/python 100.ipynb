{
 "cells": [
  {
   "cell_type": "code",
   "execution_count": 6,
   "id": "55404902",
   "metadata": {},
   "outputs": [],
   "source": [
    "# 1. 다음 리스트에서 400, 500를 삭제하는 code를 입력하세요.\n",
    "nums = [100, 200, 300, 400, 500]"
   ]
  },
  {
   "cell_type": "code",
   "execution_count": 8,
   "id": "6d635b2a",
   "metadata": {},
   "outputs": [
    {
     "name": "stdout",
     "output_type": "stream",
     "text": [
      "[100, 200, 300]\n"
     ]
    }
   ],
   "source": [
    "# 내 풀이\n",
    "nums = [100, 200, 300, 400, 500]\n",
    "nums.remove(400)\n",
    "nums.remove(500)\n",
    "nums\n",
    "\n",
    "# 문제 풀이\n",
    "nums = [100, 200, 300, 400, 500]\n",
    "nums.pop()\n",
    "nums.pop()\n",
    "print(nums)"
   ]
  },
  {
   "cell_type": "code",
   "execution_count": null,
   "id": "1cc3e771",
   "metadata": {},
   "outputs": [],
   "source": [
    "# 2\n",
    "'''\n",
    "l = [200, 100, 300]\n",
    "<pass>\n",
    "print(l)\n",
    "\n",
    "<pass>부분에 리스트 내장함수를 insert를 이용하여 코드를 입력하고 다음과 같이 출력되게 하세요.\n",
    ">>> [200, 100, 10000, 300]\n",
    "'''"
   ]
  },
  {
   "cell_type": "code",
   "execution_count": 9,
   "id": "73edec98",
   "metadata": {},
   "outputs": [
    {
     "name": "stdout",
     "output_type": "stream",
     "text": [
      "[200, 100, 10000, 300]\n"
     ]
    }
   ],
   "source": [
    "# 내 풀이\n",
    "l = [200, 100, 300]\n",
    "l.insert(2, 10000)\n",
    "print(l)\n",
    "\n",
    "# 문제 풀이\n",
    "l = [200, 100, 300]\n",
    "l.insert(2, 10000)\n",
    "print(l)"
   ]
  },
  {
   "cell_type": "markdown",
   "id": "3ceb87aa",
   "metadata": {},
   "source": [
    "## 프로그래머스 정답률 높은 순 15"
   ]
  },
  {
   "cell_type": "code",
   "execution_count": 13,
   "id": "c38d9768",
   "metadata": {},
   "outputs": [
    {
     "data": {
      "text/plain": [
       "2002"
      ]
     },
     "execution_count": 13,
     "metadata": {},
     "output_type": "execute_result"
    }
   ],
   "source": [
    "# 나이출력\n",
    "# 나이 age가 주어질 때, 2022년을 기준 출생 연도를 return 하는 solution 함수\n",
    "\n",
    "def birth_year(age):\n",
    "    answer = (2022 - age + 1)\n",
    "    return answer\n",
    "\n",
    "birth_year(21)"
   ]
  },
  {
   "cell_type": "code",
   "execution_count": 14,
   "id": "a8194a29",
   "metadata": {},
   "outputs": [
    {
     "data": {
      "text/plain": [
       "-2"
      ]
     },
     "execution_count": 14,
     "metadata": {},
     "output_type": "execute_result"
    }
   ],
   "source": [
    "# 두 수의 차\n",
    "# 정수 num1과 num2가 주어질 때, num1에서 num2를 뺀 값을 return하도록 soltuion 함수\n",
    "\n",
    "def num_diff(num1, num2):\n",
    "    answer = num1 - num2\n",
    "    return answer\n",
    "\n",
    "num_diff(3, 5)"
   ]
  },
  {
   "cell_type": "code",
   "execution_count": 15,
   "id": "da9efcfa",
   "metadata": {},
   "outputs": [],
   "source": [
    "# 나머지 구하기\n",
    "# 정수 num1, num2가 매개변수로 주어질 때, num1를 num2로 나눈 나머지를 return 하도록 solution 함수\n",
    "\n",
    "def solution(num1, num2):\n",
    "    return num1 % num2"
   ]
  },
  {
   "cell_type": "code",
   "execution_count": 18,
   "id": "ecea682a",
   "metadata": {},
   "outputs": [
    {
     "data": {
      "text/plain": [
       "1"
      ]
     },
     "execution_count": 18,
     "metadata": {},
     "output_type": "execute_result"
    }
   ],
   "source": [
    "# 몫 구하기\n",
    "# 정수 num1, num2가 매개변수로 주어질 때, num1을 num2로 나눈 몫을 return 하도록 solution 함수\n",
    "\n",
    "# 내 풀이\n",
    "def solution(num1, num2):\n",
    "    return int(num1 / num2)\n",
    "\n",
    "# 다른 사람 풀이\n",
    "\n",
    "def solution(num1, num2):\n",
    "    return num1 // num2\n",
    "\n",
    "\n",
    "solution2 = lambda x, y : x//y\n",
    "\n",
    "solution2(4, 3)"
   ]
  },
  {
   "cell_type": "code",
   "execution_count": 19,
   "id": "5bad1958",
   "metadata": {},
   "outputs": [
    {
     "data": {
      "text/plain": [
       "-1"
      ]
     },
     "execution_count": 19,
     "metadata": {},
     "output_type": "execute_result"
    }
   ],
   "source": [
    "# 숫자 비교하기\n",
    "# 정수 num1과 num2가 매개변수로 주어집니다. 두 수가 같으면 1 다르면 -1을 retrun하도록 solution 함수\n",
    "\n",
    "# 내 풀이\n",
    "def solution(num1, num2):\n",
    "    return 1 if num1 == num2 else -1\n",
    "\n",
    "solution(4, 3)"
   ]
  },
  {
   "cell_type": "code",
   "execution_count": 21,
   "id": "ba4605f3",
   "metadata": {},
   "outputs": [
    {
     "data": {
      "text/plain": [
       "9"
      ]
     },
     "execution_count": 21,
     "metadata": {},
     "output_type": "execute_result"
    }
   ],
   "source": [
    "# 두 수의 합\n",
    "# 정수 num1과 num2가 주어질 때, num1과 num2의 합을 return하도록 soltuion 함수\n",
    "\n",
    "# 내 풀이\n",
    "def solution(num1, num2):\n",
    "    return num1 + num2\n",
    "\n",
    "solution = lambda x , y : x + y\n",
    "\n",
    "# 다른 사람 풀이\n",
    "solution=lambda *x : sum(x)\n",
    "\n",
    "solution(2,3,4)"
   ]
  },
  {
   "cell_type": "code",
   "execution_count": null,
   "id": "4f91e059",
   "metadata": {},
   "outputs": [],
   "source": [
    "# 각도기\n",
    "# https://school.programmers.co.kr/learn/courses/30/lessons/120829\n",
    "\n",
    "# 내 풀이\n",
    "def solution(angle):\n",
    "\n",
    "    answer = 1\n",
    "\n",
    "    if angle == 180:\n",
    "        answer = 4\n",
    "    elif angle > 90:\n",
    "        answer = 3\n",
    "    elif angle == 90:\n",
    "        answer = 2\n",
    "\n",
    "    return answer\n",
    "\n",
    "# 다른 사람 풀이\n",
    "\n",
    "# 90을 기준으로 나눔\n",
    "def solution(angle):\n",
    "    if angle<=90:\n",
    "        return 1 if angle<90 else 2\n",
    "    else:\n",
    "        return 3 if angle<180 else 4\n",
    "\n",
    "\n",
    "# 딕셔너리를 만듬\n",
    "def solution(angle):\n",
    "    angles = {180: 4, 91: 3, 90: 2, 0: 1}\n",
    "    for base, result in angles.items():\n",
    "        if angle >= base:\n",
    "            return result"
   ]
  },
  {
   "cell_type": "code",
   "execution_count": null,
   "id": "4ab7b2b6",
   "metadata": {},
   "outputs": [],
   "source": [
    "# 두 수의 나눗셈\n",
    "# https://school.programmers.co.kr/learn/courses/30/lessons/120806\n",
    "\n",
    "# 내 코드\n",
    "def solution(num1, num2):\n",
    "    return int((num1 /num2) * 1000)\n",
    "\n"
   ]
  },
  {
   "cell_type": "code",
   "execution_count": null,
   "id": "76ff31f6",
   "metadata": {},
   "outputs": [],
   "source": [
    "# 양꼬치\n",
    "# https://school.programmers.co.kr/learn/courses/30/lessons/120830\n",
    "\n",
    "# 내 코드\n",
    "def solution(n, k):\n",
    "    return n * 12000 + k * 2000 - (n//10) * 2000\n"
   ]
  },
  {
   "cell_type": "code",
   "execution_count": null,
   "id": "e81ae055",
   "metadata": {},
   "outputs": [],
   "source": [
    "# 배열의 평균값\n",
    "# https://school.programmers.co.kr/learn/courses/30/lessons/120817\n",
    "\n",
    "# 내 코드\n",
    "def solution(numbers):\n",
    "    return sum(numbers) / len(numbers)\n",
    "\n",
    "# 다른 사람 풀이\n",
    "import numpy as np\n",
    "def solution(numbers):\n",
    "    return np.mean(numbers)"
   ]
  },
  {
   "cell_type": "code",
   "execution_count": null,
   "id": "3382a43f",
   "metadata": {},
   "outputs": [],
   "source": [
    "# 중복된 숫자 개수\n",
    "# 정수가 담긴 배열 array와 정수 n이 매개변수로 주어질 때, array에 n이 몇 개 있는 지를 return 하도록 solution\n",
    "\n",
    "def solution(array, n):\n",
    "    return array.count(n)"
   ]
  },
  {
   "cell_type": "code",
   "execution_count": null,
   "id": "37e74665",
   "metadata": {},
   "outputs": [],
   "source": [
    "# 머쓱이보다 키 큰 사람\n",
    "# https://school.programmers.co.kr/learn/courses/30/lessons/120585\n",
    "\n",
    "# 내 풀이\n",
    "def solution(array, height):\n",
    "    answer = 0\n",
    "    for num in array:\n",
    "        if num > height:\n",
    "            answer += 1\n",
    "            \n",
    "    return answer1\n",
    "\n",
    "# 다른 사람 풀이\n",
    "\n",
    "def solution(array, height):\n",
    "    array.append(height) # 머쓱이 키를 전체 키에 추가\n",
    "    array.sort(reverse=True) # 정렬을 큰 사람부터 나오도록해준다.\n",
    "    return array.index(height) # 머쓱이 키의 index 는 머쓱이보다 큰 사람 수!\n"
   ]
  },
  {
   "cell_type": "code",
   "execution_count": null,
   "id": "6418f348",
   "metadata": {},
   "outputs": [],
   "source": [
    "# 피자 나눠 먹기 (1)\n",
    "# https://school.programmers.co.kr/learn/courses/30/lessons/120814\n",
    "\n",
    "# 내코드\n",
    "def solution(n):\n",
    "    return (n // 7) + (1 if n % 7 > 0 else 0)\n",
    "\n",
    "# 다른 사람 코드\n",
    "import math\n",
    "\n",
    "def solution(n):\n",
    "    return math.ceil(n/7)"
   ]
  },
  {
   "cell_type": "code",
   "execution_count": null,
   "id": "a37dd7ef",
   "metadata": {},
   "outputs": [],
   "source": [
    "# 배열뒤집기\n",
    "# https://school.programmers.co.kr/learn/courses/30/lessons/120821\n",
    "\n",
    "# 내코드\n",
    "def solution(num_list):\n",
    "    answer = []\n",
    "    for i in range(len(num_list)):\n",
    "        answer.append(num_list[len(num_list)-1-i])\n",
    "    return answer\n",
    "\n",
    "# 다른 사람 풀이\n",
    "def solution(num_list):\n",
    "    return num_list[::-1]"
   ]
  },
  {
   "cell_type": "code",
   "execution_count": null,
   "id": "c1daa539",
   "metadata": {},
   "outputs": [],
   "source": [
    "# 문자열 뒤집기\n",
    "# 주어진 문자열 반대로 뒤집기\n",
    "\n",
    "# 내코드\n",
    "def solution(my_string):\n",
    "    return my_string[::-1]\n",
    "\n",
    "solution(\"Jason\")\n",
    "\n",
    "# 다른 사람 풀이\n",
    "def solution(my_string):\n",
    "    return ''.join(reversed(my_string))\n",
    "\n",
    "solution(\"Moo123\")"
   ]
  },
  {
   "cell_type": "code",
   "execution_count": null,
   "id": "e49d54a1",
   "metadata": {},
   "outputs": [],
   "source": [
    "# 배열 원소의 길이\n",
    "# https://school.programmers.co.kr/learn/courses/30/lessons/120854\n",
    "\n",
    "# 내코드\n",
    "def solution(strlist):        \n",
    "    return [len(s) for s in strlist]\n",
    "\n",
    "# 다른사람 코드\n",
    "solution = lambda x: list(map(len, x))\n",
    "\n",
    "solution([\"I've\", \"loved\", \"you\"])"
   ]
  },
  {
   "cell_type": "code",
   "execution_count": null,
   "id": "8962ffd8",
   "metadata": {},
   "outputs": [],
   "source": [
    "# 피자 나눠 먹기 (3)\n",
    "# https://school.programmers.co.kr/learn/courses/30/lessons/120816\n",
    "\n",
    "# 내코드\n",
    "def solution(slice, n):\n",
    "    return n // slice + (1 if n % slice > 0 else 0)\n",
    "\n",
    "# 다른 사람 코드\n",
    "from math import ceil\n",
    "def solution(slice, n):\n",
    "    return ceil(n/slice)"
   ]
  },
  {
   "cell_type": "code",
   "execution_count": null,
   "id": "27e554f6",
   "metadata": {},
   "outputs": [],
   "source": [
    "# 짝수 홀수 개수\n",
    "# https://school.programmers.co.kr/learn/courses/30/lessons/120824\n",
    "\n",
    "# 내코드\n",
    "def solution(num_list):\n",
    "    짝 = 0\n",
    "    홀 = 0\n",
    "    \n",
    "    for num in num_list:\n",
    "        if num % 2 == 0:\n",
    "            짝 += 1\n",
    "        else:\n",
    "            홀 += 1\n",
    "        \n",
    "    return [짝, 홀]\n",
    "\n",
    "# 다른사람 코드\n",
    "\n",
    "def solution(num_list):\n",
    "    answer = [0,0]\n",
    "    for n in num_list:\n",
    "        answer[n%2] +=1 # 이 부분이 신박하다!\n",
    "    return answer"
   ]
  },
  {
   "cell_type": "code",
   "execution_count": null,
   "id": "41b7a6a2",
   "metadata": {},
   "outputs": [],
   "source": [
    "# 배열 자르기\n",
    "# https://school.programmers.co.kr/learn/courses/30/lessons/120833\n",
    "\n",
    "# 내코드\n",
    "def solution(numbers, num1, num2):\n",
    "    return numbers[num1:num2+1]"
   ]
  },
  {
   "cell_type": "code",
   "execution_count": null,
   "id": "847d2174",
   "metadata": {},
   "outputs": [],
   "source": [
    "# 배열 두배 만들기\n",
    "# https://school.programmers.co.kr/learn/courses/30/lessons/120809\n",
    "\n",
    "# 내코드\n",
    "def solution(numbers):\n",
    "    return list(map(lambda x: x*2, numbers))\n",
    "\n",
    "# 다른 사람 코드\n",
    "def solution(numbers):\n",
    "    return [num*2 for num in numbers] # 람다를 안쓰고 for 문을 돌았다. \n"
   ]
  },
  {
   "cell_type": "code",
   "execution_count": null,
   "id": "1d5d06ba",
   "metadata": {},
   "outputs": [],
   "source": [
    "# 문자 반복 출력하기\n",
    "# https://school.programmers.co.kr/learn/courses/30/lessons/120825\n",
    "\n",
    "# 내코드\n",
    "def solution(my_string, n):\n",
    "    return \"\".join(map(lambda x: x*n, my_string))\n",
    "\n",
    "# 다른 사람 코드\n",
    "def solution(my_string, n):\n",
    "    return ''.join(i*n for i in my_string) # 람다를 안쓰고 for문 으로 했다.\n"
   ]
  },
  {
   "cell_type": "code",
   "execution_count": null,
   "id": "4d9f5434",
   "metadata": {},
   "outputs": [],
   "source": [
    "# 아이스 아메리카노\n",
    "# https://school.programmers.co.kr/learn/courses/30/lessons/120819\n",
    "\n",
    "# 내 코드\n",
    "def solution(money):\n",
    "    americano = 5500\n",
    "    return [money // americano, money - (money // americano) * americano]\n",
    "\n",
    "\n",
    "# 다른 사람 코드\n",
    "def solution(money):\n",
    "    return [money // 5500, money % 5500] # 나머지를 넘 복잡하게 풀었구나 내가 ㅜ"
   ]
  },
  {
   "cell_type": "code",
   "execution_count": null,
   "id": "6598277b",
   "metadata": {},
   "outputs": [],
   "source": [
    "# 점의 위치 구하기\n",
    "# https://school.programmers.co.kr/learn/courses/30/lessons/120841\n",
    "\n",
    "# 내 코드\n",
    "def solution(dot):\n",
    "    if dot[0] * dot[1] > 0 :\n",
    "        return 1 if dot[0] > 0 else 3\n",
    "    else :\n",
    "        return 4 if dot[0] > 0 else 2\n",
    "    \n",
    "# 다른 사람 코드\n",
    "def solution(dot):\n",
    "    quad = [(3,2),(4,1)]\n",
    "    return quad[dot[0] > 0][dot[1] > 0]"
   ]
  }
 ],
 "metadata": {
  "kernelspec": {
   "display_name": "Python 3.9.12 ('base')",
   "language": "python",
   "name": "python3"
  },
  "language_info": {
   "codemirror_mode": {
    "name": "ipython",
    "version": 3
   },
   "file_extension": ".py",
   "mimetype": "text/x-python",
   "name": "python",
   "nbconvert_exporter": "python",
   "pygments_lexer": "ipython3",
   "version": "3.9.12"
  },
  "toc": {
   "base_numbering": 1,
   "nav_menu": {},
   "number_sections": true,
   "sideBar": true,
   "skip_h1_title": false,
   "title_cell": "Table of Contents",
   "title_sidebar": "Contents",
   "toc_cell": false,
   "toc_position": {},
   "toc_section_display": true,
   "toc_window_display": false
  },
  "vscode": {
   "interpreter": {
    "hash": "06bfaaeaff7cb1f5295f776a16ea7ef345f972a06d2d0563a9a05445c9656fb9"
   }
  }
 },
 "nbformat": 4,
 "nbformat_minor": 5
}
