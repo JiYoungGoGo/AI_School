{
 "cells": [
  {
   "attachments": {},
   "cell_type": "markdown",
   "metadata": {},
   "source": [
    "# 코테전 필요한 준비\n",
    "- 코드 스니펫, 유용한 라이브러리 정리, 속도개선방법\n",
    "- 코드 스니펫이란, 트리, 검색, 최단경로(예를 들어 다익스트라), 직접 제작한 함수 등이다.\n",
    "- 유용한 라이브러리 : collections, itertools(순열, 조합), functools, itertools, re, bisect, math 등\n",
    "- 속도개선\n",
    "    1. class로 구현 : 기존 구현된 linked list 를 쓰지 않고 직접 class 로 만들어서 사용하기\n",
    "    2. 메서드 대신 슬라이싱 구현(슬라이싱은 C로 구현되어 있어 메서드보다 통상 8배정도 빠르다.)하자.\n",
    "        다만 공간복잡도가 상승할 수 있다. (리스트.reverse(), reversed(리스트), 리스트[::-1])\n",
    "    3. for문 대신 list comprehension을 사용. 더 빠르다.\n",
    "    4. 재귀는 느리다.\n",
    "- 스택,큐, 정규표현식, BFS, DFS는 꼭 정리하기"
   ]
  },
  {
   "attachments": {},
   "cell_type": "markdown",
   "metadata": {},
   "source": [
    "### 리스트의 메서드 들"
   ]
  },
  {
   "cell_type": "code",
   "execution_count": 5,
   "metadata": {},
   "outputs": [
    {
     "data": {
      "text/plain": [
       "['append',\n",
       " 'clear',\n",
       " 'copy',\n",
       " 'count',\n",
       " 'extend',\n",
       " 'index',\n",
       " 'insert',\n",
       " 'pop',\n",
       " 'remove',\n",
       " 'reverse',\n",
       " 'sort']"
      ]
     },
     "execution_count": 5,
     "metadata": {},
     "output_type": "execute_result"
    }
   ],
   "source": [
    "# 이 메서드 들은 알아야한다.\n",
    "dir([1,2,3])[-11:]"
   ]
  },
  {
   "attachments": {},
   "cell_type": "markdown",
   "metadata": {},
   "source": [
    "참고 : [파이썬 리스트 doc](https://docs.python.org/ko/3/tutorial/datastructures.html)\n",
    "1. append() : 리스트 마지막에 요소 아이템 전체 추가\n",
    "2. extend() : 모든 요소를 풀어서 리스트에 추가 `extend(iterable)` 인자로 튜플도 가능\n",
    "3. insert() : index에 위치에 요소 추가 `insert(index, item)`\n",
    "4. remove() : `remove(x)`리스트에서 값이 x 와 같은 첫 번째 항목을 삭제합니다. 그런 항목이 없으면 ValueError\n",
    "5. pop() : `pop(index)` index 에 있는 항목을 삭제하고, 그 항목을 반환한다. index 를 선언하지 않으면 마지막항목이 default 이다.\n",
    "6. clear() : 리스트의 모든 항목을 삭제합니다. `del a[:]` 와 동일\n",
    "7. index() : `index(x[, start[, end]])` 값이 x 와 같은 첫 번째 것의 0부터 시작하는 인덱스를 반환한다. 해당 항목이 없으면 ValueError! 항목을 어느 부분에서 찾을지 start, end 로 정할 수 있다.\n",
    "8. count() : `count(x)`리스트에서 x 가 등장하는 횟수를 반환한다. \n",
    "9. sort() : `sort(*, key=None, reverse=False)` 리스트의 항목들을 제자리에서 정렬한다. 즉 원본 리스트의 순서가 바뀌는것이다.\n",
    "10. reverse() : 리스트의 요소들을 제자리에서 순서를 뒤집는다. \n",
    "11. copy() : 리스트의 얕은 사본을 돌려줍니다. a[:] 와 동일하다. \n"
   ]
  },
  {
   "cell_type": "code",
   "execution_count": null,
   "metadata": {},
   "outputs": [],
   "source": []
  },
  {
   "cell_type": "code",
   "execution_count": null,
   "metadata": {},
   "outputs": [],
   "source": []
  },
  {
   "cell_type": "code",
   "execution_count": null,
   "metadata": {},
   "outputs": [],
   "source": []
  },
  {
   "cell_type": "code",
   "execution_count": null,
   "metadata": {},
   "outputs": [],
   "source": []
  },
  {
   "cell_type": "code",
   "execution_count": null,
   "metadata": {},
   "outputs": [],
   "source": []
  },
  {
   "cell_type": "code",
   "execution_count": null,
   "metadata": {},
   "outputs": [],
   "source": []
  },
  {
   "cell_type": "code",
   "execution_count": null,
   "metadata": {},
   "outputs": [],
   "source": []
  }
 ],
 "metadata": {
  "kernelspec": {
   "display_name": "Python 3.9.12 ('base')",
   "language": "python",
   "name": "python3"
  },
  "language_info": {
   "codemirror_mode": {
    "name": "ipython",
    "version": 3
   },
   "file_extension": ".py",
   "mimetype": "text/x-python",
   "name": "python",
   "nbconvert_exporter": "python",
   "pygments_lexer": "ipython3",
   "version": "3.9.12"
  },
  "orig_nbformat": 4,
  "vscode": {
   "interpreter": {
    "hash": "06bfaaeaff7cb1f5295f776a16ea7ef345f972a06d2d0563a9a05445c9656fb9"
   }
  }
 },
 "nbformat": 4,
 "nbformat_minor": 2
}
